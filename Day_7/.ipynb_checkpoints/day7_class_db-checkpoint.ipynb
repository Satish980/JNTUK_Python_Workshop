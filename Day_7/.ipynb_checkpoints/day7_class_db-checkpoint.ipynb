{
 "cells": [
  {
   "cell_type": "code",
   "execution_count": 3,
   "metadata": {},
   "outputs": [],
   "source": [
    "import pymysql"
   ]
  },
  {
   "cell_type": "code",
   "execution_count": 4,
   "metadata": {},
   "outputs": [
    {
     "name": "stdout",
     "output_type": "stream",
     "text": [
      "('101 MG Road', 'Hyderabad')\n",
      "('102 Secund', 'Secunderabad')\n",
      "('103 GM ', 'Banjara Hills')\n"
     ]
    }
   ],
   "source": [
    "\n",
    "\n",
    "#step1\n",
    "#connect database\n",
    "db = pymysql.connect(host='localhost',port=3306,user='root',password='admin',database='rgukt')\n",
    "#print(db)\n",
    "#create your query/handler/reference\n",
    "cursor = db.cursor()\n",
    "\n",
    "#prepare your query\n",
    "query = \"select * from realestate\"\n",
    "#execute the query\n",
    "cursor.execute(query)\n",
    "#print(cursor)\n",
    "# display the output\n",
    "for record in cursor.fetchall():\n",
    "    print(record)\n",
    "db.close()"
   ]
  },
  {
   "cell_type": "code",
   "execution_count": null,
   "metadata": {},
   "outputs": [],
   "source": []
  }
 ],
 "metadata": {
  "kernelspec": {
   "display_name": "Python 3",
   "language": "python",
   "name": "python3"
  },
  "language_info": {
   "codemirror_mode": {
    "name": "ipython",
    "version": 3
   },
   "file_extension": ".py",
   "mimetype": "text/x-python",
   "name": "python",
   "nbconvert_exporter": "python",
   "pygments_lexer": "ipython3",
   "version": "3.7.1"
  }
 },
 "nbformat": 4,
 "nbformat_minor": 2
}
