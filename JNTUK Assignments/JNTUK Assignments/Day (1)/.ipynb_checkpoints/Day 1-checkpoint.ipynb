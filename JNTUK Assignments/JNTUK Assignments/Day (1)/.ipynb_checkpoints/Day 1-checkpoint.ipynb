{
 "cells": [
  {
   "cell_type": "markdown",
   "metadata": {},
   "source": [
    "### 1. Create a class with below data members\n",
    "- Product ID,\n",
    "- Product name,\n",
    "- price,\n",
    "- Manufacturer name\n",
    "    - a) provide necessary methods and override required magic methods\n",
    "    - b) Create a List of above objects, sort based on price sort in reversing\n",
    "    order, iterate and display"
   ]
  },
  {
   "cell_type": "code",
   "execution_count": 19,
   "metadata": {},
   "outputs": [
    {
     "name": "stdout",
     "output_type": "stream",
     "text": [
      "************Product Details**************\n",
      "\n",
      "************Product Details**************\n",
      "ID:1  Product :Bike\tPrice:40000\tManufacturer:Honda\n",
      "ID:2  Product :Cycle\tPrice:4000\tManufacturer:Hero\n",
      "ID:3  Product :Car\tPrice:4000000\tManufacturer:Audi\n",
      "ID:4  Product :Jeep\tPrice:500000\tManufacturer:JEEP\n",
      "ID:5  Product :BMW \tPrice:5000000\tManufacturer:BMW\n",
      "\n",
      "************Product Details(Sorted)**************\n",
      "ID:5  Product :BMW \tPrice:5000000\tManufacturer:BMW\n",
      "ID:3  Product :Car\tPrice:4000000\tManufacturer:Audi\n",
      "ID:4  Product :Jeep\tPrice:500000\tManufacturer:JEEP\n",
      "ID:1  Product :Bike\tPrice:40000\tManufacturer:Honda\n",
      "ID:2  Product :Cycle\tPrice:4000\tManufacturer:Hero\n"
     ]
    }
   ],
   "source": [
    "#Create a class with data members Product ID,Product name, price,Manufacturer name\n",
    "class Product:\n",
    "    #constructor\n",
    "    def __init__(self, Product_ID, Product_name, Price, Manufacturer_name):\n",
    "        self.Product_ID=Product_ID\n",
    "        self.Product_name=Product_name\n",
    "        self.Price=Price\n",
    "        self.Manufacturer_name=Manufacturer_name\n",
    "     \n",
    "    #A Method to print the Object data\n",
    "    def Print(self):\n",
    "        print(\"ID:\"+str(self.Product_ID)+\"  Product :\"+str(self.Product_name)+\"\\tPrice:\"+str(self.Price)+\"\\tManufacturer:\"+str(self.Manufacturer_name))\n",
    "        \n",
    "#A List of Product objects\n",
    "print(\"************Product Details**************\")\n",
    "List = [Product(1,\"Bike\",40000,\"Honda\"),\n",
    "        Product(2,\"Cycle\",4000,\"Hero\"),\n",
    "        Product(3,\"Car\",4000000,\"Audi\"),\n",
    "        Product(4,\"Jeep\",500000,\"JEEP\")]\n",
    "\n",
    "List.append(Product(5,\"BMW \",5000000,\"BMW\"))\n",
    "\n",
    "#Printing the List of the Objects\n",
    "print(\"\\n************Product Details**************\")\n",
    "for obj in List:\n",
    "    #calling print Methos\n",
    "    obj.Print()\n",
    "    \n",
    "#sorting the List sort based on price sort in reversing order\n",
    "List.sort(key=lambda x: x.Price, reverse=True)\n",
    "\n",
    "#iterating and display the List of Object\n",
    "print(\"\\n************Product Details(Sorted)**************\")\n",
    "for obj in List:\n",
    "    #calling print Methos\n",
    "    obj.Print()"
   ]
  }
 ],
 "metadata": {
  "kernelspec": {
   "display_name": "Python 3",
   "language": "python",
   "name": "python3"
  },
  "language_info": {
   "codemirror_mode": {
    "name": "ipython",
    "version": 3
   },
   "file_extension": ".py",
   "mimetype": "text/x-python",
   "name": "python",
   "nbconvert_exporter": "python",
   "pygments_lexer": "ipython3",
   "version": "3.7.6"
  }
 },
 "nbformat": 4,
 "nbformat_minor": 4
}
