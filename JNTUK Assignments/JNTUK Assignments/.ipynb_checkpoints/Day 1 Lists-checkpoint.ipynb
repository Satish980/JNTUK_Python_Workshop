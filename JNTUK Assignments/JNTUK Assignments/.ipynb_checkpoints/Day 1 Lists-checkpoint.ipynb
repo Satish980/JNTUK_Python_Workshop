{
 "cells": [
  {
   "cell_type": "markdown",
   "metadata": {},
   "source": [
    "#### 1. Write a Python program to count the number of characters (character frequency) in a string"
   ]
  },
  {
   "cell_type": "code",
   "execution_count": 2,
   "metadata": {},
   "outputs": [
    {
     "name": "stdout",
     "output_type": "stream",
     "text": [
      "Enter your String:Hello Good Morning\n",
      "{'H': 1, 'e': 1, 'l': 2, 'o': 4, ' ': 2, 'G': 1, 'd': 1, 'M': 1, 'r': 1, 'n': 2, 'i': 1, 'g': 1}\n"
     ]
    }
   ],
   "source": [
    "string =input(\"Enter your String:\")\n",
    "\n",
    "character_frequency={}\n",
    "for i in string:\n",
    "    keys= character_frequency.keys()\n",
    "    if i in keys:\n",
    "        character_frequency[i]=character_frequency[i]+1\n",
    "    else:\n",
    "        character_frequency[i]=1\n",
    "\n",
    "print(character_frequency)\n"
   ]
  },
  {
   "cell_type": "code",
   "execution_count": null,
   "metadata": {},
   "outputs": [],
   "source": []
  },
  {
   "cell_type": "code",
   "execution_count": null,
   "metadata": {},
   "outputs": [],
   "source": []
  },
  {
   "cell_type": "markdown",
   "metadata": {},
   "source": [
    "#### 3. Write a Python program demonstrating all the list methods that were discussed in day1 session."
   ]
  },
  {
   "cell_type": "code",
   "execution_count": 29,
   "metadata": {},
   "outputs": [
    {
     "name": "stdout",
     "output_type": "stream",
     "text": [
      "List 1: [10, 3, 1, 7, 45, 30]\n",
      "After sorting List 1: [1, 3, 7, 10, 30, 45]\n",
      "Reverse Sort of List 1: [45, 30, 10, 7, 3, 1]\n",
      "Largest two values of List1:  [45, 30]\n",
      "Smallest two values of List1:  [3, 1]\n",
      "Extended List 1: [45, 30, 10, 7, 3, 1, 1, 5, 2, -5]\n"
     ]
    }
   ],
   "source": [
    "#creating a List with some values \n",
    "List1 = [10, 3,1,7,45,30]\n",
    "\n",
    "#printing the List\n",
    "print(\"List 1:\", List1)\n",
    "\n",
    "#sorting the List\n",
    "List1.sort()\n",
    "\n",
    "#printing the List\n",
    "print(\"After sorting List 1:\", List1)\n",
    "\n",
    "#sorting List reverse order or desceding Order\n",
    "List1.sort(reverse=True)\n",
    "\n",
    "#printing the List\n",
    "print(\"Reverse Sort of List 1:\", List1)\n",
    "\n",
    "#finding the two Largest and smallest values in the Listabs1\n",
    "Max=List1[:2]\n",
    "Min=List1[-2:]\n",
    "\n",
    "#printing the lists\n",
    "print(\"Largest two values of List1: \",Max)\n",
    "print(\"Smallest two values of List1: \",Min)\n",
    "\n",
    "\n",
    "#creating a List with some values \n",
    "List2 = [1,5,2,-5]\n",
    "\n",
    "#extending the List1 with List2\n",
    "List1.extend(List2)\n",
    "\n",
    "print(\"Extended List 1:\",List1)"
   ]
  },
  {
   "cell_type": "code",
   "execution_count": null,
   "metadata": {},
   "outputs": [],
   "source": []
  }
 ],
 "metadata": {
  "kernelspec": {
   "display_name": "Python 3",
   "language": "python",
   "name": "python3"
  },
  "language_info": {
   "codemirror_mode": {
    "name": "ipython",
    "version": 3
   },
   "file_extension": ".py",
   "mimetype": "text/x-python",
   "name": "python",
   "nbconvert_exporter": "python",
   "pygments_lexer": "ipython3",
   "version": "3.7.6"
  }
 },
 "nbformat": 4,
 "nbformat_minor": 4
}
