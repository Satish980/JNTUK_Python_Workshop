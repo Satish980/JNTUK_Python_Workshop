{
 "cells": [
  {
   "cell_type": "markdown",
   "metadata": {},
   "source": [
    "1. Write a Python program to count the number of characters (character frequency) in a string\n",
    "\n",
    "2. Write a Python program demonstrating all the string methods that were discussed in day1 session.\n",
    "\n",
    "3. Write a Python program demonstrating all the list methods that were discussed in day1 session.\n",
    "\n",
    "4. Write a Python program demonstrating all the dictionary methods that were discussed in day1 session.\n",
    "\n",
    "5. Write a Python program demonstrating all the set methods that were discussed in day1 session."
   ]
  },
  {
   "cell_type": "markdown",
   "metadata": {},
   "source": [
    "#### 1. Write a Python program to count the number of characters (character frequency) in a string"
   ]
  },
  {
   "cell_type": "code",
   "execution_count": 34,
   "metadata": {},
   "outputs": [
    {
     "name": "stdout",
     "output_type": "stream",
     "text": [
      "Enter your String:jygcdclbljbfc bfjcjcj\n",
      "Character \tCount\n",
      "j \t\t 5\n",
      "y \t\t 1\n",
      "g \t\t 1\n",
      "c \t\t 5\n",
      "d \t\t 1\n",
      "l \t\t 2\n",
      "b \t\t 3\n",
      "f \t\t 2\n",
      "  \t\t 1\n"
     ]
    }
   ],
   "source": [
    "string =input(\"Enter your String:\")\n",
    "\n",
    "character_frequency={}\n",
    "for i in string:\n",
    "    keys= character_frequency.keys()\n",
    "    if i in keys:\n",
    "        character_frequency[i]=character_frequency[i]+1\n",
    "    else:\n",
    "        character_frequency[i]=1\n",
    "\n",
    "keys=character_frequency.keys()\n",
    "print(\"Character\",\"\\tCount\")\n",
    "\n",
    "for i in keys:\n",
    "    print(i,\"\\t\\t\",character_frequency[i])\n"
   ]
  },
  {
   "cell_type": "markdown",
   "metadata": {},
   "source": [
    "#### 2)Write a Python program demonstrating all the string methods that were discussed in day1 session."
   ]
  },
  {
   "cell_type": "code",
   "execution_count": 14,
   "metadata": {},
   "outputs": [
    {
     "name": "stdout",
     "output_type": "stream",
     "text": [
      "Enter your string: hello Good morning\n",
      "The Lower String: hello good morning\n",
      "The Upper String: HELLO GOOD MORNING\n",
      "The Capitalized String: Hello good morning\n",
      "Splited string into Words : ['hello', 'Good', 'morning']\n",
      "Usage of center ******hello Good morning******\n",
      "Enter a String to Know it is upper or Lower: upper\n",
      "upper is a lower string\n"
     ]
    }
   ],
   "source": [
    "string=input(\"Enter your string: \")\n",
    "\n",
    "print(\"The Lower String: \"+string.lower())\n",
    "print(\"The Upper String: \"+string.upper())\n",
    "print(\"The Capitalized String: \"+string.capitalize())\n",
    "print(\"Splited string into Words :\",string.split())\n",
    "print(\"Usage of center\",string.center(30,'*'))\n",
    "\n",
    "string2=input(\"Enter a String to Know it is upper or Lower: \")\n",
    "\n",
    "if(string2.isupper()):\n",
    "    print(string2,\"is a upper string\")\n",
    "elif(string2.islower()):\n",
    "    print(string2,\"is a lower string\")\n"
   ]
  },
  {
   "cell_type": "markdown",
   "metadata": {},
   "source": [
    "#### 3)Write a Python program demonstrating all the list methods that were discussed in day1 session."
   ]
  },
  {
   "cell_type": "code",
   "execution_count": 31,
   "metadata": {},
   "outputs": [
    {
     "name": "stdout",
     "output_type": "stream",
     "text": [
      "List 1: [2, 4, 6, 8, 10]\n",
      "List 2: [1, 3, 5, 7, 9]\n",
      "After Appending:\n",
      "List 1: [2, 4, 6, 8, 10, 12]\n",
      "List 2: [1, 3, 5, 7, 9, 11]\n",
      "After Extending:\n",
      "List 1: [2, 4, 6, 8, 10, 12, 1, 3, 5, 7, 9, 11]\n",
      "After Insertiing 0 at Index Position 0:\n",
      "List 1: [0, 2, 4, 6, 8, 10, 12, 1, 3, 5, 7, 9, 11]\n",
      "After poping element at Index Position 0:\n",
      "List 1: [2, 4, 6, 8, 10, 12, 1, 3, 5, 7, 9, 11]\n",
      "After Removing element 12:\n",
      "List 1: [2, 4, 6, 8, 10, 1, 3, 5, 7, 9, 11]\n",
      "Reversed:\n",
      "List 1: [11, 9, 7, 5, 3, 1, 10, 8, 6, 4, 2]\n",
      "Sorted List:\n",
      "List 1: [1, 2, 3, 4, 5, 6, 7, 8, 9, 10, 11]\n"
     ]
    }
   ],
   "source": [
    "List_1=[2,4,6,8,10]\n",
    "List_2=[1,3,5,7,9]\n",
    "\n",
    "#printing List\n",
    "print(\"List 1:\",List_1)\n",
    "print(\"List 2:\",List_2)\n",
    "\n",
    "#appending a value to List 1\n",
    "List_1.append(12)\n",
    "List_2.append(11)\n",
    "\n",
    "#printing List\n",
    "print(\"After Appending:\")\n",
    "print(\"List 1:\",List_1)\n",
    "print(\"List 2:\",List_2)\n",
    "\n",
    "#extending List_1 with List_2\n",
    "List_1.extend(List_2)\n",
    "\n",
    "#printing List\n",
    "print(\"After Extending:\")\n",
    "print(\"List 1:\",List_1)\n",
    "\n",
    "#inserting value 0 to the List_abs1\n",
    "List_1.insert(0,0)\n",
    "\n",
    "#printing List\n",
    "print(\"After Insertiing 0 at Index Position 0:\")\n",
    "print(\"List 1:\",List_1)\n",
    "\n",
    "#poping a element in the List based on Index\n",
    "List_1.pop(0)\n",
    "\n",
    "#printing List\n",
    "print(\"After poping element at Index Position 0:\")\n",
    "print(\"List 1:\",List_1)\n",
    "\n",
    "#removing a value from the List\n",
    "List_1.remove(12)\n",
    "\n",
    "#printing List\n",
    "print(\"After Removing element 12:\")\n",
    "print(\"List 1:\",List_1)\n",
    "\n",
    "List_1.reverse()\n",
    "\n",
    "#printing List\n",
    "print(\"Reversed:\")\n",
    "print(\"List 1:\",List_1)\n",
    "\n",
    "List_1.sort()\n",
    "\n",
    "#printing List\n",
    "print(\"Sorted List:\")\n",
    "print(\"List 1:\",List_1)"
   ]
  },
  {
   "cell_type": "markdown",
   "metadata": {},
   "source": [
    "#### 4)Write a Python program demonstrating all the dictionary methods that were discussed in day1 session."
   ]
  },
  {
   "cell_type": "code",
   "execution_count": 43,
   "metadata": {},
   "outputs": [
    {
     "name": "stdout",
     "output_type": "stream",
     "text": [
      "The Keys of Dictionary are  ['Red Marble', 'Green Marble', 'White Marble', 'Black Marble']\n",
      "The Values of Dictionary are  [5, 2, 1, 7]\n",
      "The Items of Dictionary are  [('Red Marble', 5), ('Green Marble', 2), ('White Marble', 1), ('Black Marble', 7)]\n"
     ]
    }
   ],
   "source": [
    "Marbles = {\"Red Marble\":5,\n",
    "           \"Green Marble\":2,\n",
    "           \"White Marble\":1,\n",
    "           \"Black Marble\":7}\n",
    "#printing keys of the dictionary\n",
    "print(\"The Keys of Dictionary are \", list(Marbles.keys()))\n",
    "\n",
    "#printing values of the dictionary\n",
    "print(\"The Values of Dictionary are \", list(Marbles.values()))\n",
    "\n",
    "#printing items of the dictionary\n",
    "print(\"The Items of Dictionary are \", list(Marbles.items()))\n"
   ]
  },
  {
   "cell_type": "markdown",
   "metadata": {},
   "source": [
    "#### 5)Write a Python program demonstrating all the set methods that were discussed in day1 session."
   ]
  },
  {
   "cell_type": "code",
   "execution_count": 59,
   "metadata": {},
   "outputs": [
    {
     "name": "stdout",
     "output_type": "stream",
     "text": [
      "Set 1: {'Bike', 'Car', 'Bus'}\n",
      "Set 2: {'Aeroplane', 'Jet'}\n",
      "Set 1: {'Bike', 'Jeep', 'Car', 'Bus'}\n",
      "After Poping Set 1: {'Jeep', 'Car', 'Bus'}\n",
      "Removed value Jeep\n",
      "Set 1: {'Car', 'Bus'}\n",
      "Upadted Set 1: {'Car', 'Aeroplane', 'Bus', 'Jet'}\n"
     ]
    }
   ],
   "source": [
    "#creating teo sets\n",
    "set_1 = {\"Bus\",\"Bike\",\"Car\"}\n",
    "set_2 = {\"Aeroplane\",\"Jet\"}\n",
    "\n",
    "#printing the sets\n",
    "print(\"Set 1:\",set_1)\n",
    "print(\"Set 2:\",set_2)\n",
    "\n",
    "#addding another value to set_1\n",
    "set_1.add(\"Jeep\")\n",
    "\n",
    "#printing the set_1 after adding the value\n",
    "print(\"Set 1:\",set_1)\n",
    "\n",
    "#poping the first element of set_1\n",
    "set_1.pop()\n",
    "\n",
    "#printing the set_1 after poping a value\n",
    "print(\"After Poping Set 1:\",set_1)\n",
    "\n",
    "#removing an elemen of set_1\n",
    "set_1.remove(\"Jeep\")\n",
    "\n",
    "#printing the set_1 after removing the value Jeep \n",
    "print(\"Removed value Jeep\\nSet 1:\",set_1)\n",
    "\n",
    "#upadting set_1\n",
    "set_1.update(set_2)\n",
    "\n",
    "#printing the set_1 after upadating\n",
    "print(\"Upadted Set 1:\",set_1)"
   ]
  },
  {
   "cell_type": "code",
   "execution_count": null,
   "metadata": {},
   "outputs": [],
   "source": []
  }
 ],
 "metadata": {
  "kernelspec": {
   "display_name": "Python 3",
   "language": "python",
   "name": "python3"
  },
  "language_info": {
   "codemirror_mode": {
    "name": "ipython",
    "version": 3
   },
   "file_extension": ".py",
   "mimetype": "text/x-python",
   "name": "python",
   "nbconvert_exporter": "python",
   "pygments_lexer": "ipython3",
   "version": "3.7.6"
  }
 },
 "nbformat": 4,
 "nbformat_minor": 4
}
