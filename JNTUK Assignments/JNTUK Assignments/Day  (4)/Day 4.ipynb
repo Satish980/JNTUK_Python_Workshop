{
 "cells": [
  {
   "cell_type": "markdown",
   "metadata": {},
   "source": [
    "- 1) Write a Python program to count the number of characters (character frequency) in a string\n",
    "- 2) Write a Python program to check a list is empty or not\n",
    "- 3) write an conditional statement to find biggest number in 3 numbers.\n",
    "- 4) Write a Python Program to display all the UNIQUE elements of the list.\n",
    "- 5) Write a Python program to count the number of even and odd numbers from the provided list.\n",
    "\n",
    "alist = [ 56,34,23,56,4,43,6,7,5,34,5,7645,573,23,6,7,5,4,6,7,5634,3454,345,67,32,45]\n",
    "\n",
    "- 6) Write a Python program to display all the numbers from 50 to 1\n",
    "- 7) Write a Python program to display all the odd numbers from 20 to 10"
   ]
  },
  {
   "cell_type": "markdown",
   "metadata": {},
   "source": [
    "#### 1) Write a Python program to count the number of characters (character frequency) in a string"
   ]
  },
  {
   "cell_type": "code",
   "execution_count": 3,
   "metadata": {},
   "outputs": [
    {
     "name": "stdout",
     "output_type": "stream",
     "text": [
      "Enter your String:kjndv s skcja\n",
      "Character \tCount\n",
      "k \t\t 2\n",
      "j \t\t 2\n",
      "n \t\t 1\n",
      "d \t\t 1\n",
      "v \t\t 1\n",
      "  \t\t 2\n",
      "s \t\t 2\n",
      "c \t\t 1\n",
      "a \t\t 1\n"
     ]
    }
   ],
   "source": [
    "string =input(\"Enter your String:\")\n",
    "\n",
    "character_frequency={}\n",
    "for i in string:\n",
    "    keys= character_frequency.keys()\n",
    "    if i in keys:\n",
    "        character_frequency[i]=character_frequency[i]+1\n",
    "    else:\n",
    "        character_frequency[i]=1\n",
    "\n",
    "keys=character_frequency.keys()\n",
    "print(\"Character\",\"\\tCount\")\n",
    "\n",
    "for i in keys:\n",
    "    print(i,\"\\t\\t\",character_frequency[i])"
   ]
  },
  {
   "cell_type": "markdown",
   "metadata": {},
   "source": [
    "### 2) Write a Python program to check a list is empty or not"
   ]
  },
  {
   "cell_type": "code",
   "execution_count": 8,
   "metadata": {},
   "outputs": [
    {
     "name": "stdout",
     "output_type": "stream",
     "text": [
      "List is a Empty List\n"
     ]
    }
   ],
   "source": [
    "List = []\n",
    "\n",
    "if List == []:\n",
    "    print(\"List is a Empty List\")\n",
    "else:\n",
    "    print(\"List is Not a Empty List\")   "
   ]
  },
  {
   "cell_type": "markdown",
   "metadata": {},
   "source": [
    "### 3) write an conditional statement to find biggest number in 3 numbers."
   ]
  },
  {
   "cell_type": "code",
   "execution_count": 11,
   "metadata": {},
   "outputs": [
    {
     "name": "stdout",
     "output_type": "stream",
     "text": [
      "Enter Number 1:1\n",
      "Enter Number 2:2\n",
      "Enter Number 3:3\n",
      "Biggest Number is  3\n"
     ]
    }
   ],
   "source": [
    "a = int(input(\"Enter Number 1:\"))\n",
    "b = int(input(\"Enter Number 2:\"))\n",
    "c = int(input(\"Enter Number 3:\"))\n",
    "\n",
    "if a>=b and a>=c :\n",
    "    print(\"Biggest Number is \",a)\n",
    "elif b>=a and b>=c:\n",
    "    print(\"Biggest Number is \",b)\n",
    "else:\n",
    "    print(\"Biggest Number is \",c)"
   ]
  },
  {
   "cell_type": "markdown",
   "metadata": {},
   "source": [
    "### 4) Write a Python Program to display all the UNIQUE elements of the list."
   ]
  },
  {
   "cell_type": "code",
   "execution_count": 13,
   "metadata": {},
   "outputs": [
    {
     "name": "stdout",
     "output_type": "stream",
     "text": [
      "UNIQUE elements of the list : [1, 5, 4, 2, 0, 8, 3]\n"
     ]
    }
   ],
   "source": [
    "List_1 = [1,5,1,4,2,0,4,8,3,5]\n",
    "\n",
    "Unique_List = []\n",
    "\n",
    "for i in List_1:\n",
    "    if i not in Unique_List:\n",
    "        Unique_List.append(i)\n",
    "\n",
    "print(\"UNIQUE elements of the list :\",Unique_List)"
   ]
  },
  {
   "cell_type": "markdown",
   "metadata": {},
   "source": [
    "### 5) Write a Python program to count the number of even and odd numbers from the provided list.\n",
    "alist = [ 56,34,23,56,4,43,6,7,5,34,5,7645,573,23,6,7,5,4,6,7,5634,3454,345,67,32,45]"
   ]
  },
  {
   "cell_type": "code",
   "execution_count": 14,
   "metadata": {},
   "outputs": [
    {
     "name": "stdout",
     "output_type": "stream",
     "text": [
      "alist has 12 Even numbers\n",
      "alist has 14 Odd numbers\n"
     ]
    }
   ],
   "source": [
    "alist = [ 56,34,23,56,4,43,6,7,5,34,5,7645,573,23,6,7,5,4,6,7,5634,3454,345,67,32,45]\n",
    "\n",
    "Even_Count=0\n",
    "Odd_Count=0\n",
    "\n",
    "for i in alist:\n",
    "    if i%2 == 0:\n",
    "        Even_Count=Even_Count+1;\n",
    "    else:\n",
    "        Odd_Count=Odd_Count+1;\n",
    "\n",
    "print(\"alist has\",Even_Count,\"Even numbers\")\n",
    "print(\"alist has\",Odd_Count,\"Odd numbers\")\n"
   ]
  },
  {
   "cell_type": "markdown",
   "metadata": {},
   "source": [
    "### 6) Write a Python program to display all the numbers from 50 to 1"
   ]
  },
  {
   "cell_type": "code",
   "execution_count": 20,
   "metadata": {},
   "outputs": [
    {
     "name": "stdout",
     "output_type": "stream",
     "text": [
      "Numbers from 50 to 1 : 50 49 48 47 46 45 44 43 42 41 40 39 38 37 36 35 34 33 32 31 30 29 28 27 26 25 24 23 22 21 20 19 18 17 16 15 14 13 12 11 10 9 8 7 6 5 4 3 2 1 "
     ]
    }
   ],
   "source": [
    "print(\"Numbers from 50 to 1 :\" ,end=\" \") \n",
    "for i in range(50,0,-1):\n",
    "    print(i,end=\" \")"
   ]
  },
  {
   "cell_type": "markdown",
   "metadata": {},
   "source": [
    "### 7) Write a Python program to display all the odd numbers from 20 to 10"
   ]
  },
  {
   "cell_type": "code",
   "execution_count": 22,
   "metadata": {},
   "outputs": [
    {
     "name": "stdout",
     "output_type": "stream",
     "text": [
      "Odd Numbers from 20 to 10 : 19 17 15 13 11 "
     ]
    }
   ],
   "source": [
    "print(\"Odd Numbers from 20 to 10 :\",end=\" \")\n",
    "for i in range(20,10,-1):\n",
    "    if(i%2 == 1):\n",
    "        print(i,end=\" \")\n"
   ]
  },
  {
   "cell_type": "code",
   "execution_count": null,
   "metadata": {},
   "outputs": [],
   "source": []
  }
 ],
 "metadata": {
  "kernelspec": {
   "display_name": "Python 3",
   "language": "python",
   "name": "python3"
  },
  "language_info": {
   "codemirror_mode": {
    "name": "ipython",
    "version": 3
   },
   "file_extension": ".py",
   "mimetype": "text/x-python",
   "name": "python",
   "nbconvert_exporter": "python",
   "pygments_lexer": "ipython3",
   "version": "3.7.6"
  }
 },
 "nbformat": 4,
 "nbformat_minor": 4
}
