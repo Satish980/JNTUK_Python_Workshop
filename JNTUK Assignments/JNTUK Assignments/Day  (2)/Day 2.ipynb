{
 "cells": [
  {
   "cell_type": "markdown",
   "metadata": {},
   "source": [
    "1) 50_startups dataset:\n",
    "\n",
    "- a) Import the dataset and find out the shape of the dataframe.\n",
    "- b) Slice the first 15 rows of data from data frame and store them into another variable.\n",
    "- c) Find the min, max,head,tail,dtypes values of Administration column.\n",
    "- d) Slice the 2 &amp; 3 columns of the data frame and store it into another variable.\n",
    "- e) Find out the aggregations like mean, median,variance and standard deviation for first 20 rows of profit column.\n",
    "- f) Find out the profit median for different states.(hint: Use groupby function)\n",
    "- g) Filter out the rows from dataframe where R&amp;D Spend is more than 50,000."
   ]
  },
  {
   "cell_type": "code",
   "execution_count": 3,
   "metadata": {},
   "outputs": [],
   "source": [
    "#importing pandas\n",
    "import pandas as pd"
   ]
  },
  {
   "cell_type": "code",
   "execution_count": 7,
   "metadata": {},
   "outputs": [
    {
     "name": "stdout",
     "output_type": "stream",
     "text": [
      "The Shape of Dataset is (50, 5)\n"
     ]
    }
   ],
   "source": [
    "#a) Import the dataset and find out the shape of the dataframe.\n",
    "data_frame = pd.read_csv(\"50_Startups.csv\")\n",
    "print(\"The Shape of Dataset is\",data_frame.shape)"
   ]
  },
  {
   "cell_type": "code",
   "execution_count": 14,
   "metadata": {},
   "outputs": [
    {
     "name": "stdout",
     "output_type": "stream",
     "text": [
      "****************First 15 rows of data from data frame****************\n",
      "    R&D Spend  Administration  Marketing Spend       State     Profit\n",
      "0   165349.20       136897.80        471784.10    New York  192261.83\n",
      "1   162597.70       151377.59        443898.53  California  191792.06\n",
      "2   153441.51       101145.55        407934.54     Florida  191050.39\n",
      "3   144372.41       118671.85        383199.62    New York  182901.99\n",
      "4   142107.34        91391.77        366168.42     Florida  166187.94\n",
      "5   131876.90        99814.71        362861.36    New York  156991.12\n",
      "6   134615.46       147198.87        127716.82  California  156122.51\n",
      "7   130298.13       145530.06        323876.68     Florida  155752.60\n",
      "8   120542.52       148718.95        311613.29    New York  152211.77\n",
      "9   123334.88       108679.17        304981.62  California  149759.96\n",
      "10  101913.08       110594.11        229160.95     Florida  146121.95\n",
      "11  100671.96        91790.61        249744.55  California  144259.40\n",
      "12   93863.75       127320.38        249839.44     Florida  141585.52\n",
      "13   91992.39       135495.07        252664.93  California  134307.35\n",
      "14  119943.24       156547.42        256512.92     Florida  132602.65\n"
     ]
    }
   ],
   "source": [
    "#b) Slice the first 15 rows of data from data frame and store them into another variable.\n",
    "data_frame2 = data_frame.head(15)\n",
    "print(\"****************First 15 rows of data from data frame****************\")\n",
    "print(data_frame2)"
   ]
  },
  {
   "cell_type": "code",
   "execution_count": 31,
   "metadata": {
    "scrolled": false
   },
   "outputs": [
    {
     "name": "stdout",
     "output_type": "stream",
     "text": [
      "\n",
      "Minimun vlaue of Administration:  51283.14\n",
      "\n",
      "Maximum vlaue of Administration:  182645.56\n",
      "\n",
      "Head of Administration(Frist 5 rows)\n",
      "   Administration\n",
      "0       136897.80\n",
      "1       151377.59\n",
      "2       101145.55\n",
      "3       118671.85\n",
      "4        91391.77\n",
      "\n",
      "Tail of Administration(Last 5 rows)\n",
      "    Administration\n",
      "45       124153.04\n",
      "46       115816.21\n",
      "47       135426.92\n",
      "48        51743.15\n",
      "49       116983.80\n",
      "Data Type of Administration : Administration    float64\n",
      "dtype: object\n"
     ]
    }
   ],
   "source": [
    "#c) Find the min, max,head,tail,dtypes values of Administration column.\n",
    "\n",
    "# minimum\n",
    "print(\"\\nMinimun vlaue of Administration: \",float(data_frame[['Administration']].min()))\n",
    "\n",
    "#Maximum\n",
    "print(\"\\nMaximum vlaue of Administration: \",float(data_frame[['Administration']].max()))\n",
    "\n",
    "#Head\n",
    "print(\"\\nHead of Administration(Frist 5 rows)\")\n",
    "print(data_frame[['Administration']].head())\n",
    "\n",
    "#Tail\n",
    "print(\"\\nTail of Administration(Last 5 rows)\")\n",
    "print(data_frame[['Administration']].tail())\n",
    "\n",
    "#data type\n",
    "print(\"Data Type of Administration :\", data_frame[['Administration']].dtypes)"
   ]
  },
  {
   "cell_type": "code",
   "execution_count": 40,
   "metadata": {},
   "outputs": [
    {
     "name": "stdout",
     "output_type": "stream",
     "text": [
      "Sliced data:\n",
      "    Administration  Marketing Spend\n",
      "0        136897.80        471784.10\n",
      "1        151377.59        443898.53\n",
      "2        101145.55        407934.54\n",
      "3        118671.85        383199.62\n",
      "4         91391.77        366168.42\n",
      "5         99814.71        362861.36\n",
      "6        147198.87        127716.82\n",
      "7        145530.06        323876.68\n",
      "8        148718.95        311613.29\n",
      "9        108679.17        304981.62\n",
      "10       110594.11        229160.95\n",
      "11        91790.61        249744.55\n",
      "12       127320.38        249839.44\n",
      "13       135495.07        252664.93\n",
      "14       156547.42        256512.92\n",
      "15       122616.84        261776.23\n",
      "16       121597.55        264346.06\n",
      "17       145077.58        282574.31\n",
      "18       114175.79        294919.57\n",
      "19       153514.11             0.00\n",
      "20       113867.30        298664.47\n",
      "21       153773.43        299737.29\n",
      "22       122782.75        303319.26\n",
      "23       105751.03        304768.73\n",
      "24        99281.34        140574.81\n",
      "25       139553.16        137962.62\n",
      "26       144135.98        134050.07\n",
      "27       127864.55        353183.81\n",
      "28       182645.56        118148.20\n",
      "29       153032.06        107138.38\n",
      "30       115641.28         91131.24\n",
      "31       152701.92         88218.23\n",
      "32       129219.61         46085.25\n",
      "33       103057.49        214634.81\n",
      "34       157693.92        210797.67\n",
      "35        85047.44        205517.64\n",
      "36       127056.21        201126.82\n",
      "37        51283.14        197029.42\n",
      "38        65947.93        185265.10\n",
      "39        82982.09        174999.30\n",
      "40       118546.05        172795.67\n",
      "41        84710.77        164470.71\n",
      "42        96189.63        148001.11\n",
      "43       127382.30         35534.17\n",
      "44       154806.14         28334.72\n",
      "45       124153.04          1903.93\n",
      "46       115816.21        297114.46\n",
      "47       135426.92             0.00\n",
      "48        51743.15             0.00\n",
      "49       116983.80         45173.06\n"
     ]
    }
   ],
   "source": [
    "# d) Slice the 2 & 3 columns of the data frame and store it into another variable.\n",
    "data_frame3=data_frame.iloc[:,1:3]\n",
    "print(\"Sliced data:\")\n",
    "print(data_frame3)"
   ]
  },
  {
   "cell_type": "code",
   "execution_count": 63,
   "metadata": {},
   "outputs": [
    {
     "name": "stdout",
     "output_type": "stream",
     "text": [
      "Mean : 151161.657\n",
      "Median : 147940.95500000002\n",
      "varinace: 540529611.5323801\n",
      "Standard Deviation: 23249.292710368205\n"
     ]
    }
   ],
   "source": [
    "# e) Find out the aggregations like mean, median,variance and standard deviation for first 20 rows of profit column\n",
    "\n",
    "data_frame4=data_frame[['Profit']].head(20)\n",
    "\n",
    "\n",
    "print(\"Mean :\",float(data_frame4.mean()))\n",
    "print(\"Median :\",float(data_frame4.median()))\n",
    "print(\"varinace:\",float(data_frame4.var()))\n",
    "print(\"Standard Deviation:\",float(data_frame4.std()))"
   ]
  },
  {
   "cell_type": "code",
   "execution_count": 70,
   "metadata": {},
   "outputs": [
    {
     "name": "stdout",
     "output_type": "stream",
     "text": [
      "            R&D Spend  Administration  Marketing Spend     Profit\n",
      "State                                                            \n",
      "California  63408.860      121597.550        174999.30   97427.84\n",
      "Florida     74661.715      115728.745        253176.18  109543.12\n",
      "New York    77044.010      127382.300        205517.64  108552.04\n"
     ]
    }
   ],
   "source": [
    "# f) Find out the profit median for different states.(hint: Use groupby function)\n",
    "data_frame5 = data_frame.groupby(['State']).median()\n",
    "print(data_frame5)"
   ]
  },
  {
   "cell_type": "code",
   "execution_count": 75,
   "metadata": {},
   "outputs": [
    {
     "name": "stdout",
     "output_type": "stream",
     "text": [
      "    R&D Spend  Administration  Marketing Spend       State     Profit\n",
      "0   165349.20       136897.80        471784.10    New York  192261.83\n",
      "1   162597.70       151377.59        443898.53  California  191792.06\n",
      "2   153441.51       101145.55        407934.54     Florida  191050.39\n",
      "3   144372.41       118671.85        383199.62    New York  182901.99\n",
      "4   142107.34        91391.77        366168.42     Florida  166187.94\n",
      "5   131876.90        99814.71        362861.36    New York  156991.12\n",
      "6   134615.46       147198.87        127716.82  California  156122.51\n",
      "7   130298.13       145530.06        323876.68     Florida  155752.60\n",
      "8   120542.52       148718.95        311613.29    New York  152211.77\n",
      "9   123334.88       108679.17        304981.62  California  149759.96\n",
      "10  101913.08       110594.11        229160.95     Florida  146121.95\n",
      "11  100671.96        91790.61        249744.55  California  144259.40\n",
      "12   93863.75       127320.38        249839.44     Florida  141585.52\n",
      "13   91992.39       135495.07        252664.93  California  134307.35\n",
      "14  119943.24       156547.42        256512.92     Florida  132602.65\n",
      "15  114523.61       122616.84        261776.23    New York  129917.04\n",
      "16   78013.11       121597.55        264346.06  California  126992.93\n",
      "17   94657.16       145077.58        282574.31    New York  125370.37\n",
      "18   91749.16       114175.79        294919.57     Florida  124266.90\n",
      "19   86419.70       153514.11             0.00    New York  122776.86\n",
      "20   76253.86       113867.30        298664.47  California  118474.03\n",
      "21   78389.47       153773.43        299737.29    New York  111313.02\n",
      "22   73994.56       122782.75        303319.26     Florida  110352.25\n",
      "23   67532.53       105751.03        304768.73     Florida  108733.99\n",
      "24   77044.01        99281.34        140574.81    New York  108552.04\n",
      "25   64664.71       139553.16        137962.62  California  107404.34\n",
      "26   75328.87       144135.98        134050.07     Florida  105733.54\n",
      "27   72107.60       127864.55        353183.81    New York  105008.31\n",
      "28   66051.52       182645.56        118148.20     Florida  103282.38\n",
      "29   65605.48       153032.06        107138.38    New York  101004.64\n",
      "30   61994.48       115641.28         91131.24     Florida   99937.59\n",
      "31   61136.38       152701.92         88218.23    New York   97483.56\n",
      "32   63408.86       129219.61         46085.25  California   97427.84\n",
      "33   55493.95       103057.49        214634.81     Florida   96778.92\n"
     ]
    }
   ],
   "source": [
    "# g) Filter out the rows from dataframe where R&D Spend is more than 50,000.\n",
    "print(data_frame[data_frame['R&D Spend']>50000])"
   ]
  },
  {
   "cell_type": "code",
   "execution_count": null,
   "metadata": {},
   "outputs": [],
   "source": []
  }
 ],
 "metadata": {
  "kernelspec": {
   "display_name": "Python 3",
   "language": "python",
   "name": "python3"
  },
  "language_info": {
   "codemirror_mode": {
    "name": "ipython",
    "version": 3
   },
   "file_extension": ".py",
   "mimetype": "text/x-python",
   "name": "python",
   "nbconvert_exporter": "python",
   "pygments_lexer": "ipython3",
   "version": "3.7.6"
  }
 },
 "nbformat": 4,
 "nbformat_minor": 4
}
