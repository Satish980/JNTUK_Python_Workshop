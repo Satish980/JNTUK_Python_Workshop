{
 "cells": [
  {
   "cell_type": "code",
   "execution_count": 11,
   "metadata": {},
   "outputs": [],
   "source": [
    "import csv\n",
    "\n"
   ]
  },
  {
   "cell_type": "code",
   "execution_count": 17,
   "metadata": {},
   "outputs": [
    {
     "name": "stdout",
     "output_type": "stream",
     "text": [
      "file doesn't exist\n"
     ]
    }
   ],
   "source": [
    "cityset = set()\n",
    "try:\n",
    "    file = \"realestate.csv\"\n",
    "    with open(file,\"r\") as fobj:\n",
    "        reader = csv.reader(fobj)\n",
    "        \n",
    "        for line in reader:\n",
    "            cityset.add(line[1])\n",
    "        for city in cityset:\n",
    "            print(city)\n",
    "except FileNotFoundError as err:\n",
    "    print(\"file doesn't exist\")\n",
    "except Exception as err:\n",
    "    print(\"Unknown err: \", err)\n"
   ]
  },
  {
   "cell_type": "code",
   "execution_count": null,
   "metadata": {},
   "outputs": [],
   "source": []
  }
 ],
 "metadata": {
  "kernelspec": {
   "display_name": "Python 3",
   "language": "python",
   "name": "python3"
  },
  "language_info": {
   "codemirror_mode": {
    "name": "ipython",
    "version": 3
   },
   "file_extension": ".py",
   "mimetype": "text/x-python",
   "name": "python",
   "nbconvert_exporter": "python",
   "pygments_lexer": "ipython3",
   "version": "3.7.1"
  }
 },
 "nbformat": 4,
 "nbformat_minor": 2
}
